{
  "nbformat": 4,
  "nbformat_minor": 0,
  "metadata": {
    "colab": {
      "provenance": []
    },
    "kernelspec": {
      "name": "python3",
      "display_name": "Python 3"
    },
    "language_info": {
      "name": "python"
    }
  },
  "cells": [
    {
      "cell_type": "markdown",
      "source": [
        "Interpolación Usando Numpy"
      ],
      "metadata": {
        "id": "KZUP5fiPKXOn"
      }
    },
    {
      "cell_type": "code",
      "execution_count": 3,
      "metadata": {
        "colab": {
          "base_uri": "https://localhost:8080/"
        },
        "id": "eBlj7eZAdUY7",
        "outputId": "8f8b3295-4d6a-4959-df76-ddc1fa8c0712"
      },
      "outputs": [
        {
          "output_type": "stream",
          "name": "stdout",
          "text": [
            "El valor interpolado para xi=30 es: 0.897\n"
          ]
        }
      ],
      "source": [
        "import numpy as np\n",
        "\n",
        "# Vectores dados\n",
        "xi = np.array([20, 40, 60, 80, 100, 120, 140, 160, 180])\n",
        "fi = np.array([0.601, 1.193, 1.763, 2.299, 2.790, 3.238, 3.623, 3.933, 4.181])\n",
        "\n",
        "# Valor a interpolar\n",
        "x_interpolar = 30\n",
        "\n",
        "# Realizar la interpolación\n",
        "f_interpolar = np.interp(x_interpolar, xi, fi)\n",
        "\n",
        "print(f\"El valor interpolado para xi=30 es: {f_interpolar}\")\n"
      ]
    },
    {
      "cell_type": "code",
      "source": [
        "import numpy as np\n",
        "\n",
        "# Vectores dados\n",
        "xi = np.array([20, 40, 60, 80, 100, 120, 140, 160, 180])\n",
        "fi = np.array([3.963,3.925,3.850,3.738,3.588,3.438,3.250,3.025,2.800])\n",
        "\n",
        "# Valor a interpolar\n",
        "x_interpolar = 55\n",
        "\n",
        "# Realizar la interpolación\n",
        "f_interpolar = np.interp(x_interpolar, xi, fi)\n",
        "\n",
        "print(f\"El valor interpolado para xi=30 es: {f_interpolar}\")"
      ],
      "metadata": {
        "colab": {
          "base_uri": "https://localhost:8080/"
        },
        "id": "x8SyGLnadU7z",
        "outputId": "9b7bced7-b559-4a22-99a4-4c73e41618ea"
      },
      "execution_count": 5,
      "outputs": [
        {
          "output_type": "stream",
          "name": "stdout",
          "text": [
            "El valor interpolado para xi=30 es: 3.86875\n"
          ]
        }
      ]
    },
    {
      "cell_type": "code",
      "source": [
        "import numpy as np\n",
        "\n",
        "# Vectores dados\n",
        "xi = np.array([20, 40, 60, 80, 100, 120, 140, 160, 180])\n",
        "fi = np.array([2.975,2.950,2.9,2.825,2.725,2.625,2.500,2.350,2.200])\n",
        "\n",
        "# Valor a interpolar\n",
        "x_interpolar = 55\n",
        "\n",
        "# Realizar la interpolación\n",
        "f_interpolar = np.interp(x_interpolar, xi, fi)\n",
        "\n",
        "print(f\"El valor interpolado para xi=30 es: {f_interpolar}\")"
      ],
      "metadata": {
        "colab": {
          "base_uri": "https://localhost:8080/"
        },
        "id": "BiJG4oGMitdA",
        "outputId": "8a29a512-0393-42c7-a448-78a3183a5977"
      },
      "execution_count": 8,
      "outputs": [
        {
          "output_type": "stream",
          "name": "stdout",
          "text": [
            "El valor interpolado para xi=30 es: 2.9125\n"
          ]
        }
      ]
    },
    {
      "cell_type": "code",
      "source": [
        "xi = [20, 40, 60, 80, 100, 120, 140, 160, 180]\n",
        "fi = [0.480, 0.950, 1.411, 1.845, 2.237, 2.600, 2.932,3.232,3.456]\n",
        "# Valor a interpolar\n",
        "x_interpolar = 30\n",
        "\n",
        "# Realizar la interpolación\n",
        "f_interpolar = np.interp(x_interpolar, xi, fi)\n",
        "\n",
        "print(f\"El valor interpolado para xi=30 es: {f_interpolar}\")"
      ],
      "metadata": {
        "colab": {
          "base_uri": "https://localhost:8080/"
        },
        "id": "XwMLZt6mlkcX",
        "outputId": "11514dcb-706c-4c09-acc4-9f9caa03d29a"
      },
      "execution_count": 12,
      "outputs": [
        {
          "output_type": "stream",
          "name": "stdout",
          "text": [
            "El valor interpolado para xi=30 es: 0.715\n"
          ]
        }
      ]
    },
    {
      "cell_type": "code",
      "source": [
        "xi = [20, 40, 60, 80, 100, 120, 140, 160, 180]\n",
        "fi =  [2.613, 2.575, 2.538, 2.463, 2.350, 2.238, 2.125,2.013,1.863]\n",
        "# Valor a interpolar\n",
        "x_interpolar = 30\n",
        "\n",
        "# Realizar la interpolación\n",
        "f_interpolar = np.interp(x_interpolar, xi, fi)\n",
        "\n",
        "print(f\"El valor interpolado para xi=30 es: {f_interpolar}\")"
      ],
      "metadata": {
        "colab": {
          "base_uri": "https://localhost:8080/"
        },
        "id": "4nRtNclSsgeq",
        "outputId": "20a6bb2e-59f3-41fb-d25e-99f7e2ca81e8"
      },
      "execution_count": 14,
      "outputs": [
        {
          "output_type": "stream",
          "name": "stdout",
          "text": [
            "El valor interpolado para xi=30 es: 2.5940000000000003\n"
          ]
        }
      ]
    },
    {
      "cell_type": "code",
      "source": [
        "xi = [20, 40, 60, 80, 100, 120, 140, 160, 180]\n",
        "fi =   [1.045, 1.124, 1.178, 1.229, 1.275, 1.319, 1.347,1.361,1.374]\n",
        "# Valor a interpolar\n",
        "x_interpolar = 30\n",
        "\n",
        "# Realizar la interpolación\n",
        "f_interpolar = np.interp(x_interpolar, xi, fi)\n",
        "\n",
        "print(f\"El valor interpolado para xi=30 es: {f_interpolar}\")"
      ],
      "metadata": {
        "colab": {
          "base_uri": "https://localhost:8080/"
        },
        "id": "TttPL2vWs100",
        "outputId": "8e3354cf-39f3-4fc8-8d39-b700bbb6753c"
      },
      "execution_count": 15,
      "outputs": [
        {
          "output_type": "stream",
          "name": "stdout",
          "text": [
            "El valor interpolado para xi=30 es: 1.0845\n"
          ]
        }
      ]
    }
  ]
}